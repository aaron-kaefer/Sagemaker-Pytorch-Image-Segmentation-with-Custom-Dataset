{
 "cells": [
  {
   "cell_type": "code",
   "execution_count": 2,
   "id": "1c5f9758-d47e-410a-8163-1fcc9923521e",
   "metadata": {},
   "outputs": [
    {
     "name": "stdout",
     "output_type": "stream",
     "text": [
      "sagemaker.config INFO - Not applying SDK defaults from location: /etc/xdg/sagemaker/config.yaml\n",
      "sagemaker.config INFO - Not applying SDK defaults from location: /home/sagemaker-user/.config/sagemaker/config.yaml\n"
     ]
    }
   ],
   "source": [
    "import sagemaker\n",
    "\n",
    "sagemaker_session = sagemaker.Session()\n",
    "region = sagemaker_session.boto_region_name\n",
    "\n",
    "role = sagemaker.get_execution_role()"
   ]
  },
  {
   "cell_type": "code",
   "execution_count": 3,
   "id": "634791f4-1c91-40bb-8bd2-833c36cde165",
   "metadata": {},
   "outputs": [
    {
     "name": "stdout",
     "output_type": "stream",
     "text": [
      "s3.Object(bucket_name='sagemaker-us-west-2-071681976313', key='sagemaker/data-raw/10246.png')\n",
      "(1024, 1024, 3)\n",
      "(array([0., 1.], dtype=float32), array([3095229,   50499]))\n"
     ]
    },
    {
     "data": {
      "text/plain": [
       "<matplotlib.image.AxesImage at 0x7f454dbd04c0>"
      ]
     },
     "execution_count": 3,
     "metadata": {},
     "output_type": "execute_result"
    },
    {
     "data": {
      "image/png": "[encoded data removed]",
      "text/plain": [
       "<Figure size 500x500 with 1 Axes>"
      ]
     },
     "metadata": {},
     "output_type": "display_data"
    }
   ],
   "source": [
    "import matplotlib.pyplot as plt\n",
    "import matplotlib.image as mpimg\n",
    "import numpy as np\n",
    "import boto3\n",
    "import io\n",
    "\n",
    "bucket = sagemaker_session.default_bucket()\n",
    "prefix = \"sagemaker/DEMO-pytorch-mnist/segdata2/train/masks/\"\n",
    "\n",
    "s3 = boto3.client('s3')\n",
    "content = s3.list_objects(Bucket=bucket, Prefix=prefix)\n",
    "\n",
    "s3 = boto3.resource('s3')\n",
    "bucket = s3.Bucket(bucket)\n",
    "\n",
    "obj = bucket.Object(content.get('Contents')[0].get('Key'))\n",
    "print(obj)\n",
    "\n",
    "file_stream = io.BytesIO()\n",
    "obj.download_fileobj(file_stream)\n",
    "img = mpimg.imread(file_stream, \"jpeg\")\n",
    "print(img.shape)\n",
    "print(np.unique(img, return_counts=True))\n",
    "\n",
    "figure = plt.figure(figsize=(5, 5))\n",
    "plt.axis(\"off\")\n",
    "plt.imshow(img)\n",
    "#plt.show()"
   ]
  },
  {
   "cell_type": "code",
   "execution_count": 4,
   "id": "c3f93ba9-4d97-48cd-8d92-f6b44fb1cc54",
   "metadata": {},
   "outputs": [
    {
     "name": "stdout",
     "output_type": "stream",
     "text": [
      "(512, 512, 3)\n",
      "(512, 512, 3)\n",
      "(512, 512, 3)\n",
      "(512, 512, 3)\n"
     ]
    },
    {
     "data": {
      "image/png": "[encoded data removed]",
      "text/plain": [
       "<Figure size 500x500 with 4 Axes>"
      ]
     },
     "metadata": {},
     "output_type": "display_data"
    }
   ],
   "source": [
    "images_split = []\n",
    "x, y, z = img.shape\n",
    "\n",
    "splits_x , splits_y = 2, 2\n",
    "\n",
    "for i in range(splits_x):\n",
    "    for j in range(splits_y):\n",
    "        x_range = int((x/splits_x))\n",
    "        y_range = int((y/splits_y))\n",
    "        images_split.append(img[x_range*i:x_range*(i+1), y_range*j:y_range*(j+1), :])\n",
    "\n",
    "figure = plt.figure(figsize=(5, 5))\n",
    "\n",
    "for i in range(splits_x*splits_y):\n",
    "    figure.add_subplot(splits_x, splits_y, i+1)\n",
    "    plt.axis(\"off\")\n",
    "    plt.imshow(images_split[i])\n",
    "    print(images_split[i].shape)\n",
    "plt.subplots_adjust(wspace=0, hspace=0.00186)\n",
    "#plt.show()"
   ]
  },
  {
   "cell_type": "code",
   "execution_count": null,
   "id": "b17954ff-7312-4ada-a113-a1cdd949ab40",
   "metadata": {},
   "outputs": [
    {
     "name": "stdout",
     "output_type": "stream",
     "text": [
      "6227\n",
      "4980\n",
      "1246\n",
      "[{'Key': 'sagemaker/DEMO-pytorch-mnist/segdata/train/images/100034.jpg', 'LastModified': datetime.datetime(2024, 6, 27, 18, 11, 13, tzinfo=tzlocal()), 'ETag': '\"ce213e8803c5f420ad73943be5326c11\"', 'Size': 517271, 'StorageClass': 'STANDARD'}, {'Key': 'sagemaker/DEMO-pytorch-mnist/segdata/train/images/100081.jpg', 'LastModified': datetime.datetime(2024, 6, 27, 18, 11, 13, tzinfo=tzlocal()), 'ETag': '\"ae1fe7fd9b6612cf557015d6a9d0ea7a\"', 'Size': 510447, 'StorageClass': 'STANDARD'}]\n"
     ]
    }
   ],
   "source": [
    "import numpy as np\n",
    "import boto3\n",
    "import io\n",
    "from PIL import Image\n",
    "\n",
    "\n",
    "train_split, test_split = 0.8, 0.2\n",
    "\n",
    "bucket = sagemaker_session.default_bucket()\n",
    "prefix_in = \"sagemaker/data-raw/\"\n",
    "prefix_out_train = \"sagemaker/seg-data/train/images/\"\n",
    "prefix_out_test = \"sagemaker/seg-data/test/images/\"\n",
    "\n",
    "contents = []\n",
    "\n",
    "s3 = boto3.client('s3')\n",
    "paginator = s3.get_paginator('list_objects_v2')\n",
    "pages = paginator.paginate(Bucket=bucket, Prefix=prefix_in)\n",
    "\n",
    "for page in pages:\n",
    "    contents += page['Contents']\n",
    "        \n",
    "print(len(contents))\n",
    "train_content = contents[1:int(len(contents) * train_split)]\n",
    "test_content = contents[int(len(contents) * train_split):]\n",
    "print(len(train_content))\n",
    "print(len(test_content))\n",
    "\n",
    "s3_resource = boto3.resource('s3')\n",
    "bucket = s3_resource.Bucket(bucket)\n",
    "\n",
    "def split_images(image_list, output_loc, s3_bucket):\n",
    "    for i in image_list:\n",
    "        key = i.get('Key')\n",
    "        obj = s3_bucket.Object(key)\n",
    "        \n",
    "        file_stream = io.BytesIO()\n",
    "        obj.download_fileobj(file_stream)\n",
    "        img = mpimg.imread(file_stream, \"jpeg\")\n",
    "    \n",
    "        x, y, z = img.shape\n",
    "    \n",
    "        splits_x , splits_y = 2, 2\n",
    "    \n",
    "        for j in range(splits_x):\n",
    "            for k in range(splits_y):\n",
    "                x_range = int((x/splits_x))\n",
    "                y_range = int((y/splits_y))\n",
    "                new_img = img[x_range*j:x_range*(j+1), y_range*k:y_range*(k+1), :]\n",
    "    \n",
    "                im = Image.fromarray(new_img)\n",
    "                bits = io.BytesIO()\n",
    "                im.save(bits, \"jpeg\")\n",
    "                bits.seek(0, 0)\n",
    "                save = output_loc + key.split(\"/\")[-1].split(\".\")[0] + \"_\" + str(j) + \"_\" + str(k) + \".jpg\"\n",
    "                s3.put_object(Bucket=s3_bucket.name, Key=save, Body=bits, ContentType=\"image/jpg\")\n",
    "\n",
    "\n",
    "split_images(train_content, prefix_out_train, bucket)\n",
    "split_images(test_content, prefix_out_test, bucket)"
   ]
  },
  {
   "cell_type": "code",
   "execution_count": null,
   "id": "00df7e5d-1174-4e12-8881-195dfd0ebc85",
   "metadata": {},
   "outputs": [],
   "source": [
    "import numpy as np\n",
    "import boto3\n",
    "import io\n",
    "from PIL import Image\n",
    "\n",
    "bucket = sagemaker_session.default_bucket()\n",
    "prefix_in = \"sagemaker/DEMO-pytorch-mnist/segdata/train/masks/\"\n",
    "prefix_out_train = \"sagemaker/seg-data/train/masks/\"\n",
    "prefix_out_test = \"sagemaker/seg-data/test/masks/\"\n",
    "\n",
    "s3 = boto3.client('s3')\n",
    "paginator = s3.get_paginator('list_objects_v2')\n",
    "pages = paginator.paginate(Bucket=bucket, Prefix=prefix_in)\n",
    "\n",
    "for page in pages:\n",
    "    contents += page['Contents']\n",
    "\n",
    "train_content = contents[1:int(len(contents) * train_split)]\n",
    "test_content = contents[int(len(contents) * train_split):]\n",
    "print(len(train_content))\n",
    "print(len(test_content))\n",
    "\n",
    "s3_resource = boto3.resource('s3')\n",
    "bucket = s3_resource.Bucket(bucket)\n",
    "\n",
    "def split_masks(mask_list, output_loc, s3_bucket):\n",
    "    for i in mask_list:\n",
    "        key = i.get('Key')\n",
    "        obj = s3_bucket.Object(key)\n",
    "        \n",
    "        file_stream = io.BytesIO()\n",
    "        obj.download_fileobj(file_stream)\n",
    "        img = mpimg.imread(file_stream, \"jpeg\")\n",
    "    \n",
    "        x, y, z = img.shape\n",
    "    \n",
    "        splits_x , splits_y = 2, 2\n",
    "    \n",
    "        for j in range(splits_x):\n",
    "            for k in range(splits_y):\n",
    "                x_range = int((x/splits_x))\n",
    "                y_range = int((y/splits_y))\n",
    "                new_img = img[x_range*j:x_range*(j+1), y_range*k:y_range*(k+1), :] * 255\n",
    "\n",
    "                im = Image.fromarray(new_img.astype(np.uint8))\n",
    "                bits = io.BytesIO()\n",
    "                im.save(bits, \"png\")\n",
    "                bits.seek(0, 0)\n",
    "                save = output_loc + key.split(\"/\")[-1].split(\".\")[0] + \"_\" + str(j) + \"_\" + str(k) + \".png\"\n",
    "                s3.put_object(Bucket=s3_bucket.name, Key=save, Body=bits, ContentType=\"image/png\")\n",
    "\n",
    "split_masks(train_content, prefix_out_train, bucket)\n",
    "split_masks(test_content, prefix_out_test, bucket)"
   ]
  },
  {
   "cell_type": "code",
   "execution_count": null,
   "id": "319eb1aa-9e54-4404-a52d-04b744a1fdaa",
   "metadata": {},
   "outputs": [],
   "source": []
  }
 ],
 "metadata": {
  "kernelspec": {
   "display_name": "Python 3 (ipykernel)",
   "language": "python",
   "name": "python3"
  },
  "language_info": {
   "codemirror_mode": {
    "name": "ipython",
    "version": 3
   },
   "file_extension": ".py",
   "mimetype": "text/x-python",
   "name": "python",
   "nbconvert_exporter": "python",
   "pygments_lexer": "ipython3",
   "version": "3.10.14"
  }
 },
 "nbformat": 4,
 "nbformat_minor": 5
}
